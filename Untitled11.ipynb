{
 "cells": [
  {
   "cell_type": "code",
   "execution_count": 2,
   "id": "8965e8d2-8e2b-468d-a931-1b00f9973300",
   "metadata": {},
   "outputs": [
    {
     "name": "stdout",
     "output_type": "stream",
     "text": [
      "Probabilitas P(X=k) untuk distribusi binomial: 0.1171875\n"
     ]
    }
   ],
   "source": [
    "# Garda Yudha - 064102400006\n",
    "import math\n",
    "\n",
    "# Fungsi untuk menghitung kombinasi (n choose k)\n",
    "def n_choose_k(n, k):\n",
    "    return math.factorial(n) / (math.factorial(k) * math.factorial(n - k))\n",
    "\n",
    "# Fungsi untuk menghitung probabilitas P(X=k) dalam distribusi binomial\n",
    "def binomial_probability(n, k, p):\n",
    "    return n_choose_k(n, k) * (p ** k) * ((1 - p) ** (n - k))\n",
    "\n",
    "# Parameter distribusi binomial\n",
    "n = 10  # jumlah percobaan\n",
    "p = 0.5  # probabilitas keberhasilan dalam satu percobaan\n",
    "k = 3  # jumlah keberhasilan yang diinginkan\n",
    "\n",
    "# Menghitung probabilitas P(X=k) untuk distribusi binomial\n",
    "prob_binomial = binomial_probability(n, k, p)\n",
    "print(\"Probabilitas P(X=k) untuk distribusi binomial:\", prob_binomial)"
   ]
  },
  {
   "cell_type": "code",
   "execution_count": 10,
   "id": "f12f5ba9-459c-4a9c-bdd9-7bfa9e44be4e",
   "metadata": {},
   "outputs": [
    {
     "name": "stdout",
     "output_type": "stream",
     "text": [
      "Probabilitas P(X=K) untuk distribusi binomial: 0.1171875\n"
     ]
    }
   ],
   "source": [
    "#implementasi distribusi binomial dengan package scipy.stats\n",
    "from scipy.stats import binom\n",
    "\n",
    "# distribusi binomial \n",
    "n = 10 #jumlah percobaan\n",
    "p = 0.5 #probabilitas kebrhasilan dalam satu percobaan\n",
    "k = 3 #jumlah keberhasilan yang inginkAn\n",
    "\n",
    "prob_binomial = binom.pmf(k, n, p,)\n",
    "print(\"Probabilitas P(X=K) untuk distribusi binomial:\", prob_binomial)\n"
   ]
  },
  {
   "cell_type": "code",
   "execution_count": 12,
   "id": "4dd98b7f-b301-494b-9594-1d837d5d4813",
   "metadata": {},
   "outputs": [
    {
     "name": "stdout",
     "output_type": "stream",
     "text": [
      "Probabilitas P(X=K) untuk distribusi Poisson: 0.22404180765538775\n"
     ]
    }
   ],
   "source": [
    "# implementasi manual rumus distribusi Poisson\n",
    "\n",
    "import math\n",
    "\n",
    "# fungsi untuk menghitung probabilitas P(X=K) dalam distribusi poisson\n",
    "def poisson_probability(lambd, k):\n",
    "    return (lambd ** k) * math.exp(-lambd) / math.factorial(k)\n",
    "\n",
    "#parameter distribusi poisson\n",
    "lambd = 3 #rata rata jumlah peristiwa dalam interval waktu/titik\n",
    "k = 2 # jumlah peristiwa yanng di inginkan \n",
    "\n",
    "# Menghitung probabilitas P(X=K) untuk distribusi Poisson\n",
    "prob_poisson = poisson_probability(lambd, k)\n",
    "print(\"Probabilitas P(X=K) untuk distribusi Poisson:\", prob_poisson)"
   ]
  },
  {
   "cell_type": "code",
   "execution_count": 14,
   "id": "9acd93ce-31af-4855-9586-c9b3011a0e2e",
   "metadata": {},
   "outputs": [
    {
     "name": "stdout",
     "output_type": "stream",
     "text": [
      "Probabilitas P(X=k) untuk distribusi Poisson: 0.22404180765538775\n"
     ]
    }
   ],
   "source": [
    "#implementasi distribusi Poisson dengan package scipy.stats\n",
    "from scipy.stats import poisson\n",
    "\n",
    "# Distribusi Poisson\n",
    "lambd = 3 # rata-rata jumlah peristiwa dalam interval waktu/titik\n",
    "k = 2 # jumlah peristiwa yang diinginkan\n",
    "\n",
    "prob_poisson = poisson.pmf(k, lambd)\n",
    "print(\"Probabilitas P(X=k) untuk distribusi Poisson:\", prob_poisson)"
   ]
  },
  {
   "cell_type": "code",
   "execution_count": 16,
   "id": "4f9c4a9d-a285-4000-a475-aada327ec552",
   "metadata": {},
   "outputs": [
    {
     "name": "stdout",
     "output_type": "stream",
     "text": [
      "0.1285054390988551\n"
     ]
    }
   ],
   "source": [
    "from scipy import stats\n",
    "X = stats.binom(15, 0.1)\n",
    "print(X.pmf(3))"
   ]
  },
  {
   "cell_type": "code",
   "execution_count": 18,
   "id": "9c04d318-2663-4595-99e0-d9fab04c0cf6",
   "metadata": {},
   "outputs": [
    {
     "name": "stdout",
     "output_type": "stream",
     "text": [
      "0.8159389308936089\n"
     ]
    }
   ],
   "source": [
    "print(X.cdf(2)) #P(X <= 2)"
   ]
  },
  {
   "cell_type": "code",
   "execution_count": 20,
   "id": "cb5eac5d-7447-4378-9e16-64ce63e9e0eb",
   "metadata": {},
   "outputs": [
    {
     "name": "stdout",
     "output_type": "stream",
     "text": [
      "0.17546736976785063\n"
     ]
    }
   ],
   "source": [
    "from scipy import stats\n",
    "Y = stats.poisson(5)\n",
    "print(Y.pmf(4))       #P(y = 4)"
   ]
  },
  {
   "cell_type": "code",
   "execution_count": 22,
   "id": "d9e24d28-d1e9-4a2c-b133-2c98a1ece182",
   "metadata": {},
   "outputs": [
    {
     "name": "stdout",
     "output_type": "stream",
     "text": [
      "0.17886305056987967\n"
     ]
    }
   ],
   "source": [
    "# Garda Yudha Wicaksana\n",
    "\n",
    "from scipy import stats\n",
    "\n",
    "#Mendefinisikan Variabel X sebagai distribusi binomial dengan 15 percoaan dan probabilitas sukses 01\n",
    "X = stats.binom(20, 0.7)\n",
    "\n",
    "# Menghitung probabilitas masssa X sama dengan 3\n",
    "pmf_15 = X.pmf(15)\n",
    "\n",
    "# Mencetak nilai probabilitas\n",
    "print(pmf_15)"
   ]
  },
  {
   "cell_type": "code",
   "execution_count": 24,
   "id": "399b17d6-341b-43c8-8fc0-141d9de2a4e4",
   "metadata": {},
   "outputs": [
    {
     "name": "stdout",
     "output_type": "stream",
     "text": [
      "0.18044704431548356\n"
     ]
    }
   ],
   "source": [
    "#Garda Yudha Wicaksana\n",
    "from scipy import stats\n",
    "Y = stats.poisson(2)\n",
    "\n",
    "print(Y.pmf(3))             "
   ]
  },
  {
   "cell_type": "code",
   "execution_count": null,
   "id": "cfb6fb86-8d6f-4e45-8589-c7845e53c4bd",
   "metadata": {},
   "outputs": [],
   "source": []
  }
 ],
 "metadata": {
  "kernelspec": {
   "display_name": "Python [conda env:base] *",
   "language": "python",
   "name": "conda-base-py"
  },
  "language_info": {
   "codemirror_mode": {
    "name": "ipython",
    "version": 3
   },
   "file_extension": ".py",
   "mimetype": "text/x-python",
   "name": "python",
   "nbconvert_exporter": "python",
   "pygments_lexer": "ipython3",
   "version": "3.12.7"
  }
 },
 "nbformat": 4,
 "nbformat_minor": 5
}
